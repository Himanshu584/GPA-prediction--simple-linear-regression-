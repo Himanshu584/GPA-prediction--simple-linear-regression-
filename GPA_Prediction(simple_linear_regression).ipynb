{
  "nbformat": 4,
  "nbformat_minor": 0,
  "metadata": {
    "colab": {
      "name": "GPA_Prediction(simple_linear_regression).ipynb",
      "provenance": [],
      "authorship_tag": "ABX9TyNSJjJ/Ep+0TSHoHSum/vwC",
      "include_colab_link": true
    },
    "kernelspec": {
      "name": "python3",
      "display_name": "Python 3"
    },
    "language_info": {
      "name": "python"
    }
  },
  "cells": [
    {
      "cell_type": "markdown",
      "metadata": {
        "id": "view-in-github",
        "colab_type": "text"
      },
      "source": [
        "<a href=\"https://colab.research.google.com/github/Himanshu584/GPA-prediction--simple-linear-regression-/blob/main/GPA_Prediction(simple_linear_regression).ipynb\" target=\"_parent\"><img src=\"https://colab.research.google.com/assets/colab-badge.svg\" alt=\"Open In Colab\"/></a>"
      ]
    },
    {
      "cell_type": "markdown",
      "metadata": {
        "id": "kYdrDGe727Np"
      },
      "source": [
        "**DataSet Info :-** This is a simple dataset that contains values of `SAT` and `GPA` of around 80-84 students.\n",
        "\n",
        "**Objective :-** What we are focused on here is to build a simple linear regression model that can take `SAT` scores as `inputs\\\\Features` and predict `GPA` scores on basis of passed inputs.  "
      ]
    },
    {
      "cell_type": "markdown",
      "metadata": {
        "id": "yVxsXYmpsYHG"
      },
      "source": [
        "# Libraries \n",
        "* pandas - used for data manipulation and to work with dataframes\n",
        "* Numpy - to work with arrays\n",
        "* matplotlib - to visualize data \n",
        "* seaborn - It sits on top of matplotlib and makes visualizations more beautiful\n",
        "* sklearn - for working with machine learning models."
      ]
    },
    {
      "cell_type": "code",
      "metadata": {
        "id": "5Ng8OM38jTep"
      },
      "source": [
        "import pandas as pd\n",
        "import numpy as np\n",
        "import matplotlib.pyplot as plt\n",
        "import seaborn as sns\n",
        "import sklearn \n",
        "sns.set()\n",
        "\n",
        "from sklearn.linear_model import LinearRegression"
      ],
      "execution_count": null,
      "outputs": []
    },
    {
      "cell_type": "markdown",
      "metadata": {
        "id": "8n6xqPN42l7d"
      },
      "source": [
        "Lets Begin by loading our data into a pandas DataFrame and then lets see what our data looks like by printing first 5 rows of our data"
      ]
    },
    {
      "cell_type": "code",
      "metadata": {
        "colab": {
          "base_uri": "https://localhost:8080/",
          "height": 195
        },
        "id": "fHsk6d2ujede",
        "outputId": "b0455dce-71e2-4ee8-ed85-11f31367b927"
      },
      "source": [
        "data = pd.read_csv('https://cdn.fs.teachablecdn.com/2oA6THOURTS9rBiwTKGx')\n",
        "data.head()"
      ],
      "execution_count": null,
      "outputs": [
        {
          "output_type": "execute_result",
          "data": {
            "text/html": [
              "<div>\n",
              "<style scoped>\n",
              "    .dataframe tbody tr th:only-of-type {\n",
              "        vertical-align: middle;\n",
              "    }\n",
              "\n",
              "    .dataframe tbody tr th {\n",
              "        vertical-align: top;\n",
              "    }\n",
              "\n",
              "    .dataframe thead th {\n",
              "        text-align: right;\n",
              "    }\n",
              "</style>\n",
              "<table border=\"1\" class=\"dataframe\">\n",
              "  <thead>\n",
              "    <tr style=\"text-align: right;\">\n",
              "      <th></th>\n",
              "      <th>SAT</th>\n",
              "      <th>GPA</th>\n",
              "    </tr>\n",
              "  </thead>\n",
              "  <tbody>\n",
              "    <tr>\n",
              "      <th>0</th>\n",
              "      <td>1714</td>\n",
              "      <td>2.40</td>\n",
              "    </tr>\n",
              "    <tr>\n",
              "      <th>1</th>\n",
              "      <td>1664</td>\n",
              "      <td>2.52</td>\n",
              "    </tr>\n",
              "    <tr>\n",
              "      <th>2</th>\n",
              "      <td>1760</td>\n",
              "      <td>2.54</td>\n",
              "    </tr>\n",
              "    <tr>\n",
              "      <th>3</th>\n",
              "      <td>1685</td>\n",
              "      <td>2.74</td>\n",
              "    </tr>\n",
              "    <tr>\n",
              "      <th>4</th>\n",
              "      <td>1693</td>\n",
              "      <td>2.83</td>\n",
              "    </tr>\n",
              "  </tbody>\n",
              "</table>\n",
              "</div>"
            ],
            "text/plain": [
              "    SAT   GPA\n",
              "0  1714  2.40\n",
              "1  1664  2.52\n",
              "2  1760  2.54\n",
              "3  1685  2.74\n",
              "4  1693  2.83"
            ]
          },
          "metadata": {
            "tags": []
          },
          "execution_count": 8
        }
      ]
    },
    {
      "cell_type": "markdown",
      "metadata": {
        "id": "WBZNA1eikMcn"
      },
      "source": [
        "# Declaring variables \n",
        "We split our dataset into dependent and independent variables \n",
        "\n",
        "X = Dependent variable <br/>\n",
        "Y = Independent Variable (The one we wish to predict)\n"
      ]
    },
    {
      "cell_type": "code",
      "metadata": {
        "id": "iFPnw69GkBpO"
      },
      "source": [
        "  X = data['SAT']\n",
        "  Y = data['GPA']"
      ],
      "execution_count": null,
      "outputs": []
    },
    {
      "cell_type": "markdown",
      "metadata": {
        "id": "g4xVtqV94fpZ"
      },
      "source": [
        "Since we are building this model for simple regression problem and since the dataset is not large enough , we aren't splitting our data into training and test datasets. we will train the model on whole data provided and create a small test data after training our LinearRegression model"
      ]
    },
    {
      "cell_type": "code",
      "metadata": {
        "colab": {
          "base_uri": "https://localhost:8080/"
        },
        "id": "fUqQM9-AlEEN",
        "outputId": "d5499ff2-54b4-4c4a-8dd3-d0f2aafc61d0"
      },
      "source": [
        "# lets look at some of our independent variable values\n",
        "X.head()"
      ],
      "execution_count": null,
      "outputs": [
        {
          "output_type": "execute_result",
          "data": {
            "text/plain": [
              "0    1714\n",
              "1    1664\n",
              "2    1760\n",
              "3    1685\n",
              "4    1693\n",
              "Name: SAT, dtype: int64"
            ]
          },
          "metadata": {
            "tags": []
          },
          "execution_count": 12
        }
      ]
    },
    {
      "cell_type": "markdown",
      "metadata": {
        "id": "EXbEHq_E5UPv"
      },
      "source": [
        "Now , lets check the shapes of our `X` and `Y` variables as shape parameter is one of the most important aspects of our ML\\DL proccess"
      ]
    },
    {
      "cell_type": "code",
      "metadata": {
        "colab": {
          "base_uri": "https://localhost:8080/"
        },
        "id": "035g4BezlIwn",
        "outputId": "08717f7b-8366-4fb5-fd6f-a6facf63a601"
      },
      "source": [
        "X.shape"
      ],
      "execution_count": null,
      "outputs": [
        {
          "output_type": "execute_result",
          "data": {
            "text/plain": [
              "(84,)"
            ]
          },
          "metadata": {
            "tags": []
          },
          "execution_count": 13
        }
      ]
    },
    {
      "cell_type": "code",
      "metadata": {
        "colab": {
          "base_uri": "https://localhost:8080/"
        },
        "id": "8pg9SoIHlQmS",
        "outputId": "6c4ad1a5-d853-4609-8e9b-41f1b7eda932"
      },
      "source": [
        "Y.shape"
      ],
      "execution_count": null,
      "outputs": [
        {
          "output_type": "execute_result",
          "data": {
            "text/plain": [
              "(84,)"
            ]
          },
          "metadata": {
            "tags": []
          },
          "execution_count": 14
        }
      ]
    },
    {
      "cell_type": "markdown",
      "metadata": {
        "id": "j7hTRg7p6_pf"
      },
      "source": [
        "Clearly we need to reshape our input variables because we cant train our linear regression model on a scaler(tensor of rank 0) because it has 0 dimentions. "
      ]
    },
    {
      "cell_type": "code",
      "metadata": {
        "id": "G3b8ZhX0lWri"
      },
      "source": [
        "# we store the reshaped X in variable X_matrix\n",
        "X_matrix = X.values.reshape(-1,1)"
      ],
      "execution_count": null,
      "outputs": []
    },
    {
      "cell_type": "code",
      "metadata": {
        "colab": {
          "base_uri": "https://localhost:8080/"
        },
        "id": "tTwwvnJ3lfHs",
        "outputId": "aed830a0-b950-4e75-ec9d-7cb5cbb11d28"
      },
      "source": [
        "X_matrix.shape"
      ],
      "execution_count": null,
      "outputs": [
        {
          "output_type": "execute_result",
          "data": {
            "text/plain": [
              "(84, 1)"
            ]
          },
          "metadata": {
            "tags": []
          },
          "execution_count": 16
        }
      ]
    },
    {
      "cell_type": "markdown",
      "metadata": {
        "id": "H3D9sjx27uMK"
      },
      "source": [
        "now that our shape problem has been solved and the data is ready to be trained on, lets create a linear regression model and fit it onto our data"
      ]
    },
    {
      "cell_type": "markdown",
      "metadata": {
        "id": "s8yjRZt9lz89"
      },
      "source": [
        "# Linear Regression Model \n",
        "\n",
        "we define our model here first by creating a regression variable that stores the model and then fitting the model / by supplying the values on which model will train into the model."
      ]
    },
    {
      "cell_type": "code",
      "metadata": {
        "colab": {
          "base_uri": "https://localhost:8080/"
        },
        "id": "85AIXBTxlhgh",
        "outputId": "ff017a53-cbb5-4708-b56a-c8aa18f845e3"
      },
      "source": [
        "reg = LinearRegression()\n",
        "\n",
        "reg.fit(X_matrix, Y)"
      ],
      "execution_count": null,
      "outputs": [
        {
          "output_type": "execute_result",
          "data": {
            "text/plain": [
              "LinearRegression(copy_X=True, fit_intercept=True, n_jobs=None, normalize=False)"
            ]
          },
          "metadata": {
            "tags": []
          },
          "execution_count": 17
        }
      ]
    },
    {
      "cell_type": "markdown",
      "metadata": {
        "id": "N2bXN2xlmuBv"
      },
      "source": [
        "Interpreting the R Squared , coeffecients , intercept values from the model.\n",
        "\n",
        "\n",
        "* R squared = range between 0-1.   (the higher the better)\n"
      ]
    },
    {
      "cell_type": "code",
      "metadata": {
        "id": "XhC9v6NOmb9t"
      },
      "source": [
        "# R-Squared \n",
        "rsq = reg.score(X_matrix, Y)\n",
        "rsq"
      ],
      "execution_count": null,
      "outputs": []
    },
    {
      "cell_type": "code",
      "metadata": {
        "id": "Mqu-RMb4nQFu"
      },
      "source": [
        "# Coeffecients \n",
        "coef = reg.coef_\n",
        "coef"
      ],
      "execution_count": null,
      "outputs": []
    },
    {
      "cell_type": "code",
      "metadata": {
        "id": "LNL3yfTjnUBJ"
      },
      "source": [
        "# Intercepts\n",
        "intercept = reg.intercept_\n",
        "intercept"
      ],
      "execution_count": null,
      "outputs": []
    },
    {
      "cell_type": "markdown",
      "metadata": {
        "id": "_z_ITIMu8bYX"
      },
      "source": [
        "Now that our model has been created and trained , let build a test dataset with just 2 values and make predictions on them."
      ]
    },
    {
      "cell_type": "markdown",
      "metadata": {
        "id": "oDXhWuKQnluC"
      },
      "source": [
        "# Testing \n"
      ]
    },
    {
      "cell_type": "code",
      "metadata": {
        "id": "ZFLOJ4mnnXgU"
      },
      "source": [
        "# Test Dataset \n",
        "test_data = pd.DataFrame(data = [1670,2320], columns=['SAT'] )"
      ],
      "execution_count": null,
      "outputs": []
    },
    {
      "cell_type": "code",
      "metadata": {
        "colab": {
          "base_uri": "https://localhost:8080/",
          "height": 106
        },
        "id": "UY3E8xCvoHua",
        "outputId": "3be11d95-2a71-418d-e6e6-a92377eea6a7"
      },
      "source": [
        "test_data"
      ],
      "execution_count": null,
      "outputs": [
        {
          "output_type": "execute_result",
          "data": {
            "text/html": [
              "<div>\n",
              "<style scoped>\n",
              "    .dataframe tbody tr th:only-of-type {\n",
              "        vertical-align: middle;\n",
              "    }\n",
              "\n",
              "    .dataframe tbody tr th {\n",
              "        vertical-align: top;\n",
              "    }\n",
              "\n",
              "    .dataframe thead th {\n",
              "        text-align: right;\n",
              "    }\n",
              "</style>\n",
              "<table border=\"1\" class=\"dataframe\">\n",
              "  <thead>\n",
              "    <tr style=\"text-align: right;\">\n",
              "      <th></th>\n",
              "      <th>SAT</th>\n",
              "    </tr>\n",
              "  </thead>\n",
              "  <tbody>\n",
              "    <tr>\n",
              "      <th>0</th>\n",
              "      <td>1670</td>\n",
              "    </tr>\n",
              "    <tr>\n",
              "      <th>1</th>\n",
              "      <td>2320</td>\n",
              "    </tr>\n",
              "  </tbody>\n",
              "</table>\n",
              "</div>"
            ],
            "text/plain": [
              "    SAT\n",
              "0  1670\n",
              "1  2320"
            ]
          },
          "metadata": {
            "tags": []
          },
          "execution_count": 26
        }
      ]
    },
    {
      "cell_type": "markdown",
      "metadata": {
        "id": "wz2NaDfIoRoz"
      },
      "source": [
        "Predictions"
      ]
    },
    {
      "cell_type": "code",
      "metadata": {
        "colab": {
          "base_uri": "https://localhost:8080/"
        },
        "id": "bPLncgE0oNrJ",
        "outputId": "fb445e2a-2163-442c-c4b4-69d4c34cb3d4"
      },
      "source": [
        "reg.predict(test_data)"
      ],
      "execution_count": null,
      "outputs": [
        {
          "output_type": "execute_result",
          "data": {
            "text/plain": [
              "array([3.04003934, 4.11623658])"
            ]
          },
          "metadata": {
            "tags": []
          },
          "execution_count": 27
        }
      ]
    },
    {
      "cell_type": "code",
      "metadata": {
        "id": "ujwoW08noZJe"
      },
      "source": [
        "test_data['Predicted GPA'] = reg.predict(test_data)"
      ],
      "execution_count": null,
      "outputs": []
    },
    {
      "cell_type": "code",
      "metadata": {
        "colab": {
          "base_uri": "https://localhost:8080/",
          "height": 106
        },
        "id": "MKeAmFLAoli7",
        "outputId": "8d3cff8f-52d4-4264-84ea-b9c6a20b787e"
      },
      "source": [
        "test_data"
      ],
      "execution_count": null,
      "outputs": [
        {
          "output_type": "execute_result",
          "data": {
            "text/html": [
              "<div>\n",
              "<style scoped>\n",
              "    .dataframe tbody tr th:only-of-type {\n",
              "        vertical-align: middle;\n",
              "    }\n",
              "\n",
              "    .dataframe tbody tr th {\n",
              "        vertical-align: top;\n",
              "    }\n",
              "\n",
              "    .dataframe thead th {\n",
              "        text-align: right;\n",
              "    }\n",
              "</style>\n",
              "<table border=\"1\" class=\"dataframe\">\n",
              "  <thead>\n",
              "    <tr style=\"text-align: right;\">\n",
              "      <th></th>\n",
              "      <th>SAT</th>\n",
              "      <th>Predicted GPA</th>\n",
              "    </tr>\n",
              "  </thead>\n",
              "  <tbody>\n",
              "    <tr>\n",
              "      <th>0</th>\n",
              "      <td>1670</td>\n",
              "      <td>3.040039</td>\n",
              "    </tr>\n",
              "    <tr>\n",
              "      <th>1</th>\n",
              "      <td>2320</td>\n",
              "      <td>4.116237</td>\n",
              "    </tr>\n",
              "  </tbody>\n",
              "</table>\n",
              "</div>"
            ],
            "text/plain": [
              "    SAT  Predicted GPA\n",
              "0  1670       3.040039\n",
              "1  2320       4.116237"
            ]
          },
          "metadata": {
            "tags": []
          },
          "execution_count": 29
        }
      ]
    },
    {
      "cell_type": "markdown",
      "metadata": {
        "id": "DaE5fcx4rAIf"
      },
      "source": [
        "# Visualization\n",
        "\n",
        "Now lets viaualise how our regression model has performed by visualizing the predictions against the training dataset. \n"
      ]
    },
    {
      "cell_type": "code",
      "metadata": {
        "colab": {
          "base_uri": "https://localhost:8080/",
          "height": 291
        },
        "id": "JbFGaDa_onuk",
        "outputId": "5eb5cf15-cee3-4190-a74d-085294159b8a"
      },
      "source": [
        "plt.scatter(X,Y)\n",
        "y_pred = coef*X_matrix + intercept\n",
        "fig= plt.plot(X,y_pred, lw=4, c='green', label='regression-line')\n",
        "plt.xlabel(\"SAT\", fontsize=20)\n",
        "plt.ylabel(\"GPA\", fontsize=20)\n",
        "plt.show()"
      ],
      "execution_count": null,
      "outputs": [
        {
          "output_type": "display_data",
          "data": {
            "image/png": "[encoded data removed]",
            "text/plain": [
              "<Figure size 432x288 with 1 Axes>"
            ]
          },
          "metadata": {
            "tags": []
          }
        }
      ]
    },
    {
      "cell_type": "markdown",
      "metadata": {
        "id": "KYB_TDpr9pOj"
      },
      "source": [
        "We have achieved a beautiful straight line fitting our data perfectly which is what we were trying to do : create a best fit line that passes through our datapoints minimising the loss (eucledian distance)"
      ]
    }
  ]
}